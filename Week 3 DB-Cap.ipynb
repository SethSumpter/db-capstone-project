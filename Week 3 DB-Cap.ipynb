{
 "cells": [
  {
   "cell_type": "code",
   "execution_count": 9,
   "id": "55ca2103-334a-4069-851c-eadbf1e1dabc",
   "metadata": {},
   "outputs": [],
   "source": [
    "import mysql.connector as connector"
   ]
  },
  {
   "cell_type": "code",
   "execution_count": 10,
   "id": "3527f6ce-ea82-4b02-aad5-690b61d82407",
   "metadata": {},
   "outputs": [],
   "source": [
    "connection = connector.connect(user = \"root\", password = \"sethlee1\", db = \"little_lemon_db\")"
   ]
  },
  {
   "cell_type": "code",
   "execution_count": 11,
   "id": "bb517fd7-bb9d-4088-a48d-c740f610afcb",
   "metadata": {},
   "outputs": [],
   "source": [
    "cursor = connection.cursor()"
   ]
  },
  {
   "cell_type": "code",
   "execution_count": 12,
   "id": "2b1b0e39-bc49-4140-b08d-6929ec8167e4",
   "metadata": {},
   "outputs": [],
   "source": [
    "show_tables_query = \"SHOW tables\"\n",
    "cursor.execute(show_tables_query)"
   ]
  },
  {
   "cell_type": "code",
   "execution_count": 13,
   "id": "ee34f001-7d9b-49cf-a379-dfe1e9cd90f6",
   "metadata": {},
   "outputs": [],
   "source": [
    "results = cursor.fetchall() "
   ]
  },
  {
   "cell_type": "code",
   "execution_count": 14,
   "id": "7dcd4af9-afa7-4585-bcc9-6cb6e6e889f7",
   "metadata": {},
   "outputs": [
    {
     "name": "stdout",
     "output_type": "stream",
     "text": [
      "[('bookings',), ('bookings_week2',), ('employees',), ('menuitems',), ('menus',), ('orders',)]\n"
     ]
    }
   ],
   "source": [
    "print(results)"
   ]
  },
  {
   "cell_type": "code",
   "execution_count": 18,
   "id": "c84e0b41-b0ed-4f60-a5df-d3ed5befde55",
   "metadata": {},
   "outputs": [],
   "source": [
    "orders_join_customers = \"\"\"SELECT BillAmount, GuestFirstName, GuestLastName\n",
    "FROM Orders INNER JOIN Bookings \n",
    "WHERE Orders.BookingID = Bookings.BookingID AND BillAmount > 60\"\"\"\n",
    "\n",
    "cursor.execute(orders_join_customers)"
   ]
  },
  {
   "cell_type": "code",
   "execution_count": 19,
   "id": "0361bfb1-4935-41dc-9ec1-100cc7e0a298",
   "metadata": {},
   "outputs": [],
   "source": [
    "results = cursor.fetchall()"
   ]
  },
  {
   "cell_type": "code",
   "execution_count": 20,
   "id": "936f6a03-5010-41d8-82af-241088dae4cf",
   "metadata": {},
   "outputs": [
    {
     "name": "stdout",
     "output_type": "stream",
     "text": [
      "[(86, 'Anna', 'Iversen')]\n"
     ]
    }
   ],
   "source": [
    "print(results)"
   ]
  },
  {
   "cell_type": "code",
   "execution_count": null,
   "id": "5cc9e57f-5aa6-46c2-8cc1-dec45cd0af43",
   "metadata": {},
   "outputs": [],
   "source": []
  }
 ],
 "metadata": {
  "kernelspec": {
   "display_name": "Python 3 (ipykernel)",
   "language": "python",
   "name": "python3"
  },
  "language_info": {
   "codemirror_mode": {
    "name": "ipython",
    "version": 3
   },
   "file_extension": ".py",
   "mimetype": "text/x-python",
   "name": "python",
   "nbconvert_exporter": "python",
   "pygments_lexer": "ipython3",
   "version": "3.12.0"
  }
 },
 "nbformat": 4,
 "nbformat_minor": 5
}
